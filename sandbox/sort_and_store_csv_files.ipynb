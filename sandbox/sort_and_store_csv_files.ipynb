{
 "cells": [
  {
   "cell_type": "code",
   "execution_count": 7,
   "id": "initial_id",
   "metadata": {
    "collapsed": true,
    "ExecuteTime": {
     "end_time": "2024-03-11T19:18:00.494829Z",
     "start_time": "2024-03-11T19:18:00.492060Z"
    }
   },
   "outputs": [],
   "source": [
    "import pandas as pd"
   ]
  },
  {
   "cell_type": "code",
   "outputs": [],
   "source": [
    "df = pd.read_csv('../../TemptDataHouse/USO_sorted_test/raw_traded_quote/2023/01/20230106_20230104.csv')"
   ],
   "metadata": {
    "collapsed": false,
    "ExecuteTime": {
     "end_time": "2024-03-11T19:19:03.300340Z",
     "start_time": "2024-03-11T19:19:03.291631Z"
    }
   },
   "id": "79c98771be2d4f1c",
   "execution_count": 16
  },
  {
   "cell_type": "code",
   "outputs": [
    {
     "data": {
      "text/plain": "      Unnamed: 0 root  expiration  strike right  ms_of_day    sequence  \\\n0           1762  USO    20230106   72500     C   34200147  -502011971   \n1           1004  USO    20230106   66000     P   34200154  -502010286   \n2           1267  USO    20230106   67000     P   34200192  -501995226   \n3           1526  USO    20230106   69000     C   34200952  -501440147   \n4           1085  USO    20230106   67000     C   34200952  -501440145   \n...          ...  ...         ...     ...   ...        ...         ...   \n1809         539  USO    20230106   64000     P   57566721  1169435794   \n1810         157  USO    20230106   61000     P   57566809  1169440293   \n1811        1266  USO    20230106   67000     C   57572210  1170007667   \n1812        1003  USO    20230106   66000     C   57586879  1171753683   \n1813         839  USO    20230106   65500     C   57595145  1172800970   \n\n      ext_condition1  ext_condition2  ext_condition3  ...  ms_of_day2  \\\n0                255             255             255  ...    34200147   \n1                255             255             255  ...    34200098   \n2                255             255             255  ...    34200192   \n3                255             255             255  ...    34200951   \n4                255             255             255  ...    34200951   \n...              ...             ...             ...  ...         ...   \n1809             255             255             255  ...    57566721   \n1810             255             255             255  ...    57566659   \n1811             255             255             255  ...    57572208   \n1812             255             255             255  ...    57581472   \n1813             255             255             255  ...    57595145   \n\n      bid_size  bid_exchange   bid  bid_condition  ask_size  ask_exchange  \\\n0            0             4  0.00             50         1             4   \n1            0             4  0.00             50         2             4   \n2            2             4  1.79             50         1             4   \n3            0            43  0.00             50         1             6   \n4            1             6  0.17             50         1             6   \n...        ...           ...   ...            ...       ...           ...   \n1809       220            31  0.88             50        10             7   \n1810         3            69  0.17             50         5            60   \n1811        74            42  0.19             50         2             7   \n1812        86            11  0.39             50        34            47   \n1813        84             7  0.55             50         4             1   \n\n       ask  ask_condition      date  \n0     4.80             50  20230104  \n1     1.50             50  20230104  \n2     2.04             50  20230104  \n3     0.75             50  20230104  \n4     0.92             50  20230104  \n...    ...            ...       ...  \n1809  0.93             50  20230104  \n1810  0.20             50  20230104  \n1811  0.24             50  20230104  \n1812  0.46             50  20230104  \n1813  0.61             50  20230104  \n\n[1814 rows x 29 columns]",
      "text/html": "<div>\n<style scoped>\n    .dataframe tbody tr th:only-of-type {\n        vertical-align: middle;\n    }\n\n    .dataframe tbody tr th {\n        vertical-align: top;\n    }\n\n    .dataframe thead th {\n        text-align: right;\n    }\n</style>\n<table border=\"1\" class=\"dataframe\">\n  <thead>\n    <tr style=\"text-align: right;\">\n      <th></th>\n      <th>Unnamed: 0</th>\n      <th>root</th>\n      <th>expiration</th>\n      <th>strike</th>\n      <th>right</th>\n      <th>ms_of_day</th>\n      <th>sequence</th>\n      <th>ext_condition1</th>\n      <th>ext_condition2</th>\n      <th>ext_condition3</th>\n      <th>...</th>\n      <th>ms_of_day2</th>\n      <th>bid_size</th>\n      <th>bid_exchange</th>\n      <th>bid</th>\n      <th>bid_condition</th>\n      <th>ask_size</th>\n      <th>ask_exchange</th>\n      <th>ask</th>\n      <th>ask_condition</th>\n      <th>date</th>\n    </tr>\n  </thead>\n  <tbody>\n    <tr>\n      <th>0</th>\n      <td>1762</td>\n      <td>USO</td>\n      <td>20230106</td>\n      <td>72500</td>\n      <td>C</td>\n      <td>34200147</td>\n      <td>-502011971</td>\n      <td>255</td>\n      <td>255</td>\n      <td>255</td>\n      <td>...</td>\n      <td>34200147</td>\n      <td>0</td>\n      <td>4</td>\n      <td>0.00</td>\n      <td>50</td>\n      <td>1</td>\n      <td>4</td>\n      <td>4.80</td>\n      <td>50</td>\n      <td>20230104</td>\n    </tr>\n    <tr>\n      <th>1</th>\n      <td>1004</td>\n      <td>USO</td>\n      <td>20230106</td>\n      <td>66000</td>\n      <td>P</td>\n      <td>34200154</td>\n      <td>-502010286</td>\n      <td>255</td>\n      <td>255</td>\n      <td>255</td>\n      <td>...</td>\n      <td>34200098</td>\n      <td>0</td>\n      <td>4</td>\n      <td>0.00</td>\n      <td>50</td>\n      <td>2</td>\n      <td>4</td>\n      <td>1.50</td>\n      <td>50</td>\n      <td>20230104</td>\n    </tr>\n    <tr>\n      <th>2</th>\n      <td>1267</td>\n      <td>USO</td>\n      <td>20230106</td>\n      <td>67000</td>\n      <td>P</td>\n      <td>34200192</td>\n      <td>-501995226</td>\n      <td>255</td>\n      <td>255</td>\n      <td>255</td>\n      <td>...</td>\n      <td>34200192</td>\n      <td>2</td>\n      <td>4</td>\n      <td>1.79</td>\n      <td>50</td>\n      <td>1</td>\n      <td>4</td>\n      <td>2.04</td>\n      <td>50</td>\n      <td>20230104</td>\n    </tr>\n    <tr>\n      <th>3</th>\n      <td>1526</td>\n      <td>USO</td>\n      <td>20230106</td>\n      <td>69000</td>\n      <td>C</td>\n      <td>34200952</td>\n      <td>-501440147</td>\n      <td>255</td>\n      <td>255</td>\n      <td>255</td>\n      <td>...</td>\n      <td>34200951</td>\n      <td>0</td>\n      <td>43</td>\n      <td>0.00</td>\n      <td>50</td>\n      <td>1</td>\n      <td>6</td>\n      <td>0.75</td>\n      <td>50</td>\n      <td>20230104</td>\n    </tr>\n    <tr>\n      <th>4</th>\n      <td>1085</td>\n      <td>USO</td>\n      <td>20230106</td>\n      <td>67000</td>\n      <td>C</td>\n      <td>34200952</td>\n      <td>-501440145</td>\n      <td>255</td>\n      <td>255</td>\n      <td>255</td>\n      <td>...</td>\n      <td>34200951</td>\n      <td>1</td>\n      <td>6</td>\n      <td>0.17</td>\n      <td>50</td>\n      <td>1</td>\n      <td>6</td>\n      <td>0.92</td>\n      <td>50</td>\n      <td>20230104</td>\n    </tr>\n    <tr>\n      <th>...</th>\n      <td>...</td>\n      <td>...</td>\n      <td>...</td>\n      <td>...</td>\n      <td>...</td>\n      <td>...</td>\n      <td>...</td>\n      <td>...</td>\n      <td>...</td>\n      <td>...</td>\n      <td>...</td>\n      <td>...</td>\n      <td>...</td>\n      <td>...</td>\n      <td>...</td>\n      <td>...</td>\n      <td>...</td>\n      <td>...</td>\n      <td>...</td>\n      <td>...</td>\n      <td>...</td>\n    </tr>\n    <tr>\n      <th>1809</th>\n      <td>539</td>\n      <td>USO</td>\n      <td>20230106</td>\n      <td>64000</td>\n      <td>P</td>\n      <td>57566721</td>\n      <td>1169435794</td>\n      <td>255</td>\n      <td>255</td>\n      <td>255</td>\n      <td>...</td>\n      <td>57566721</td>\n      <td>220</td>\n      <td>31</td>\n      <td>0.88</td>\n      <td>50</td>\n      <td>10</td>\n      <td>7</td>\n      <td>0.93</td>\n      <td>50</td>\n      <td>20230104</td>\n    </tr>\n    <tr>\n      <th>1810</th>\n      <td>157</td>\n      <td>USO</td>\n      <td>20230106</td>\n      <td>61000</td>\n      <td>P</td>\n      <td>57566809</td>\n      <td>1169440293</td>\n      <td>255</td>\n      <td>255</td>\n      <td>255</td>\n      <td>...</td>\n      <td>57566659</td>\n      <td>3</td>\n      <td>69</td>\n      <td>0.17</td>\n      <td>50</td>\n      <td>5</td>\n      <td>60</td>\n      <td>0.20</td>\n      <td>50</td>\n      <td>20230104</td>\n    </tr>\n    <tr>\n      <th>1811</th>\n      <td>1266</td>\n      <td>USO</td>\n      <td>20230106</td>\n      <td>67000</td>\n      <td>C</td>\n      <td>57572210</td>\n      <td>1170007667</td>\n      <td>255</td>\n      <td>255</td>\n      <td>255</td>\n      <td>...</td>\n      <td>57572208</td>\n      <td>74</td>\n      <td>42</td>\n      <td>0.19</td>\n      <td>50</td>\n      <td>2</td>\n      <td>7</td>\n      <td>0.24</td>\n      <td>50</td>\n      <td>20230104</td>\n    </tr>\n    <tr>\n      <th>1812</th>\n      <td>1003</td>\n      <td>USO</td>\n      <td>20230106</td>\n      <td>66000</td>\n      <td>C</td>\n      <td>57586879</td>\n      <td>1171753683</td>\n      <td>255</td>\n      <td>255</td>\n      <td>255</td>\n      <td>...</td>\n      <td>57581472</td>\n      <td>86</td>\n      <td>11</td>\n      <td>0.39</td>\n      <td>50</td>\n      <td>34</td>\n      <td>47</td>\n      <td>0.46</td>\n      <td>50</td>\n      <td>20230104</td>\n    </tr>\n    <tr>\n      <th>1813</th>\n      <td>839</td>\n      <td>USO</td>\n      <td>20230106</td>\n      <td>65500</td>\n      <td>C</td>\n      <td>57595145</td>\n      <td>1172800970</td>\n      <td>255</td>\n      <td>255</td>\n      <td>255</td>\n      <td>...</td>\n      <td>57595145</td>\n      <td>84</td>\n      <td>7</td>\n      <td>0.55</td>\n      <td>50</td>\n      <td>4</td>\n      <td>1</td>\n      <td>0.61</td>\n      <td>50</td>\n      <td>20230104</td>\n    </tr>\n  </tbody>\n</table>\n<p>1814 rows × 29 columns</p>\n</div>"
     },
     "execution_count": 17,
     "metadata": {},
     "output_type": "execute_result"
    }
   ],
   "source": [
    "df"
   ],
   "metadata": {
    "collapsed": false,
    "ExecuteTime": {
     "end_time": "2024-03-11T19:19:03.461253Z",
     "start_time": "2024-03-11T19:19:03.452852Z"
    }
   },
   "id": "46c9329ff2c4bc66",
   "execution_count": 17
  },
  {
   "cell_type": "code",
   "outputs": [],
   "source": [
    "df.sort_values(by='ms_of_day').to_csv('../../TemptDataHouse/USO_sorted_test/raw_traded_quote/2023/01/20230106_20230104.csv', index=False)"
   ],
   "metadata": {
    "collapsed": false,
    "ExecuteTime": {
     "end_time": "2024-03-11T19:18:28.126370Z",
     "start_time": "2024-03-11T19:18:28.111919Z"
    }
   },
   "id": "dd1c4bcfe44b45d8",
   "execution_count": 12
  },
  {
   "cell_type": "code",
   "outputs": [],
   "source": [],
   "metadata": {
    "collapsed": false
   },
   "id": "888deae71d9d28ba"
  }
 ],
 "metadata": {
  "kernelspec": {
   "display_name": "Python 3",
   "language": "python",
   "name": "python3"
  },
  "language_info": {
   "codemirror_mode": {
    "name": "ipython",
    "version": 2
   },
   "file_extension": ".py",
   "mimetype": "text/x-python",
   "name": "python",
   "nbconvert_exporter": "python",
   "pygments_lexer": "ipython2",
   "version": "2.7.6"
  }
 },
 "nbformat": 4,
 "nbformat_minor": 5
}
